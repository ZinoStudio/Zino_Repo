{
 "cells": [
  {
   "cell_type": "markdown",
   "metadata": {},
   "source": [
    "# 거시경제 일반지표 통합\n",
    "- 2020.08.29 작업본  \n",
    "\n",
    "(상세 기술 추가 예정) \n"
   ]
  },
  {
   "cell_type": "code",
   "execution_count": 1,
   "metadata": {},
   "outputs": [],
   "source": [
    "# Import data handling Packages\n",
    "import pandas as pd\n",
    "import glob\n",
    "import re"
   ]
  },
  {
   "cell_type": "code",
   "execution_count": 2,
   "metadata": {},
   "outputs": [],
   "source": [
    "# Set Data directory\n",
    "data_dir = 'C:/Users/seoun/Desktop/Python/milestone_data/'\n",
    "save_dir = 'C:/Users/seoun/Desktop/Python/milestone_data/datasets/'\n"
   ]
  },
  {
   "cell_type": "code",
   "execution_count": 3,
   "metadata": {},
   "outputs": [
    {
     "data": {
      "text/plain": [
       "['C:/Users/seoun/Desktop/Python/milestone_data/거시경제_및_일반지표/02.일반지표\\\\세대수.xlsx',\n",
       " 'C:/Users/seoun/Desktop/Python/milestone_data/거시경제_및_일반지표/02.일반지표\\\\이동건수.xlsx',\n",
       " 'C:/Users/seoun/Desktop/Python/milestone_data/거시경제_및_일반지표/02.일반지표\\\\인구수.xlsx',\n",
       " 'C:/Users/seoun/Desktop/Python/milestone_data/거시경제_및_일반지표/02.일반지표\\\\인구이동.xlsx']"
      ]
     },
     "execution_count": 3,
     "metadata": {},
     "output_type": "execute_result"
    }
   ],
   "source": [
    "# 세부 경로\n",
    "lv_dir = '거시경제_및_일반지표/02.일반지표/'\n",
    "file_list = glob.glob(data_dir+lv_dir+ '*.xlsx')\n",
    "file_list"
   ]
  },
  {
   "cell_type": "code",
   "execution_count": 4,
   "metadata": {},
   "outputs": [],
   "source": [
    "# import raw data\n",
    "\n",
    "gen1_df = pd.read_excel(file_list[0], sheet_name=0, header=10, index_col=0).T # 세대수.xlsx \n",
    "gen2_df = pd.read_excel(file_list[1], sheet_name=0, header=10, index_col=0).T # 이동건수.xlsx \n",
    "gen3_df = pd.read_excel(file_list[2], sheet_name=0, header=10, index_col=0).T # 인구수.xlsx \n",
    "gen4_df = pd.read_excel(file_list[3], sheet_name=0, header=10, index_col=0).T # 인구이동.xlsx \n"
   ]
  },
  {
   "cell_type": "code",
   "execution_count": 5,
   "metadata": {},
   "outputs": [
    {
     "data": {
      "text/html": [
       "<div>\n",
       "<style scoped>\n",
       "    .dataframe tbody tr th:only-of-type {\n",
       "        vertical-align: middle;\n",
       "    }\n",
       "\n",
       "    .dataframe tbody tr th {\n",
       "        vertical-align: top;\n",
       "    }\n",
       "\n",
       "    .dataframe thead th {\n",
       "        text-align: right;\n",
       "    }\n",
       "</style>\n",
       "<table border=\"1\" class=\"dataframe\">\n",
       "  <thead>\n",
       "    <tr style=\"text-align: right;\">\n",
       "      <th>지 역</th>\n",
       "      <th>전국</th>\n",
       "      <th>서울</th>\n",
       "      <th>부산</th>\n",
       "      <th>대구</th>\n",
       "      <th>인천</th>\n",
       "      <th>광주</th>\n",
       "      <th>대전</th>\n",
       "      <th>울산</th>\n",
       "      <th>세종</th>\n",
       "      <th>경기</th>\n",
       "      <th>강원</th>\n",
       "      <th>충북</th>\n",
       "      <th>충남</th>\n",
       "      <th>전북</th>\n",
       "      <th>전남</th>\n",
       "      <th>경북</th>\n",
       "      <th>경남</th>\n",
       "      <th>제주</th>\n",
       "    </tr>\n",
       "  </thead>\n",
       "  <tbody>\n",
       "    <tr>\n",
       "      <th>2013년</th>\n",
       "      <td>20456588</td>\n",
       "      <td>4182351</td>\n",
       "      <td>1404663</td>\n",
       "      <td>960265</td>\n",
       "      <td>1118988</td>\n",
       "      <td>563599</td>\n",
       "      <td>584877</td>\n",
       "      <td>431595</td>\n",
       "      <td>50045</td>\n",
       "      <td>4712324</td>\n",
       "      <td>664913</td>\n",
       "      <td>644062</td>\n",
       "      <td>857699</td>\n",
       "      <td>766699</td>\n",
       "      <td>815769</td>\n",
       "      <td>1139387</td>\n",
       "      <td>1320887</td>\n",
       "      <td>238465</td>\n",
       "    </tr>\n",
       "    <tr>\n",
       "      <th>2014년</th>\n",
       "      <td>20724094</td>\n",
       "      <td>4194176</td>\n",
       "      <td>1421648</td>\n",
       "      <td>970618</td>\n",
       "      <td>1136280</td>\n",
       "      <td>573043</td>\n",
       "      <td>592508</td>\n",
       "      <td>442250</td>\n",
       "      <td>62807</td>\n",
       "      <td>4786718</td>\n",
       "      <td>673978</td>\n",
       "      <td>656321</td>\n",
       "      <td>871459</td>\n",
       "      <td>774562</td>\n",
       "      <td>823667</td>\n",
       "      <td>1153559</td>\n",
       "      <td>1343984</td>\n",
       "      <td>246516</td>\n",
       "    </tr>\n",
       "    <tr>\n",
       "      <th>2015년</th>\n",
       "      <td>21011152</td>\n",
       "      <td>4189948</td>\n",
       "      <td>1437818</td>\n",
       "      <td>982360</td>\n",
       "      <td>1154004</td>\n",
       "      <td>580427</td>\n",
       "      <td>597008</td>\n",
       "      <td>451688</td>\n",
       "      <td>81806</td>\n",
       "      <td>4885012</td>\n",
       "      <td>685005</td>\n",
       "      <td>669503</td>\n",
       "      <td>885968</td>\n",
       "      <td>782986</td>\n",
       "      <td>833901</td>\n",
       "      <td>1169648</td>\n",
       "      <td>1367142</td>\n",
       "      <td>256928</td>\n",
       "    </tr>\n",
       "    <tr>\n",
       "      <th>2016년</th>\n",
       "      <td>21294009</td>\n",
       "      <td>4189839</td>\n",
       "      <td>1451270</td>\n",
       "      <td>994220</td>\n",
       "      <td>1171399</td>\n",
       "      <td>586464</td>\n",
       "      <td>606137</td>\n",
       "      <td>455352</td>\n",
       "      <td>94343</td>\n",
       "      <td>5003406</td>\n",
       "      <td>692254</td>\n",
       "      <td>680960</td>\n",
       "      <td>902294</td>\n",
       "      <td>790084</td>\n",
       "      <td>842688</td>\n",
       "      <td>1180643</td>\n",
       "      <td>1385684</td>\n",
       "      <td>266972</td>\n",
       "    </tr>\n",
       "    <tr>\n",
       "      <th>2017년</th>\n",
       "      <td>21632851</td>\n",
       "      <td>4220082</td>\n",
       "      <td>1467555</td>\n",
       "      <td>1006753</td>\n",
       "      <td>1188917</td>\n",
       "      <td>592818</td>\n",
       "      <td>614639</td>\n",
       "      <td>458547</td>\n",
       "      <td>109490</td>\n",
       "      <td>5131379</td>\n",
       "      <td>700265</td>\n",
       "      <td>692140</td>\n",
       "      <td>923499</td>\n",
       "      <td>797916</td>\n",
       "      <td>851376</td>\n",
       "      <td>1193261</td>\n",
       "      <td>1406011</td>\n",
       "      <td>278203</td>\n",
       "    </tr>\n",
       "  </tbody>\n",
       "</table>\n",
       "</div>"
      ],
      "text/plain": [
       "지 역          전국       서울       부산       대구       인천      광주      대전      울산  \\\n",
       "2013년  20456588  4182351  1404663   960265  1118988  563599  584877  431595   \n",
       "2014년  20724094  4194176  1421648   970618  1136280  573043  592508  442250   \n",
       "2015년  21011152  4189948  1437818   982360  1154004  580427  597008  451688   \n",
       "2016년  21294009  4189839  1451270   994220  1171399  586464  606137  455352   \n",
       "2017년  21632851  4220082  1467555  1006753  1188917  592818  614639  458547   \n",
       "\n",
       "지 역        세종       경기      강원      충북      충남      전북      전남       경북  \\\n",
       "2013년   50045  4712324  664913  644062  857699  766699  815769  1139387   \n",
       "2014년   62807  4786718  673978  656321  871459  774562  823667  1153559   \n",
       "2015년   81806  4885012  685005  669503  885968  782986  833901  1169648   \n",
       "2016년   94343  5003406  692254  680960  902294  790084  842688  1180643   \n",
       "2017년  109490  5131379  700265  692140  923499  797916  851376  1193261   \n",
       "\n",
       "지 역         경남      제주  \n",
       "2013년  1320887  238465  \n",
       "2014년  1343984  246516  \n",
       "2015년  1367142  256928  \n",
       "2016년  1385684  266972  \n",
       "2017년  1406011  278203  "
      ]
     },
     "execution_count": 5,
     "metadata": {},
     "output_type": "execute_result"
    }
   ],
   "source": [
    "gen1_df.tail() # 기준년도 # 세대수 \n",
    "# gen2_df.tail() # 기준년월 # 이동건수 \n",
    "# gen3_df.tail() # 기준년도 # 인구수 \n",
    "# gen4_df.tail() # 기준년월 # 인구이동 "
   ]
  },
  {
   "cell_type": "code",
   "execution_count": 6,
   "metadata": {
    "scrolled": true
   },
   "outputs": [
    {
     "name": "stdout",
     "output_type": "stream",
     "text": [
      "\n",
      " # 결측 값 변환 전, 결측 데이터 수 ===================\n",
      "# 세대수.xlsx  ---------------\n",
      "결측(None)값 갯수:  0\n",
      "결측('-')값 갯수:  25\n",
      "\n",
      " # 이동건수.xlsx  -------------\n",
      "결측(None)값 갯수:  0\n",
      "결측('-')값 갯수:  138\n",
      "\n",
      " # 인구수.xlsx  ---------------\n",
      "결측(None)값 갯수:  0\n",
      "결측('-')값 갯수:  25\n",
      "\n",
      " # 인구이동.xlsx  ------------\n",
      "결측(None)값 갯수:  0\n",
      "결측('-')값 갯수:  1518\n",
      "\n",
      " # 결측 값 변환 후, 결측 데이터 수 ===================\n",
      "\n",
      " # 세대수.xlsx  ---------------\n",
      "결측(None)값 갯수:  25\n",
      "결측('-')값 갯수:  0\n",
      "\n",
      " # 이동건수.xlsx  -------------\n",
      "결측(None)값 갯수:  138\n",
      "결측('-')값 갯수:  0\n",
      "\n",
      " # 인구수.xlsx  ---------------\n",
      "결측(None)값 갯수:  25\n",
      "결측('-')값 갯수:  0\n",
      "\n",
      " # 인구이동.xlsx  ------------\n",
      "결측(None)값 갯수:  1518\n",
      "결측('-')값 갯수:  0\n"
     ]
    },
    {
     "name": "stderr",
     "output_type": "stream",
     "text": [
      "C:\\Users\\seoun\\Anaconda3\\lib\\site-packages\\pandas\\core\\ops\\__init__.py:1115: FutureWarning: elementwise comparison failed; returning scalar instead, but in the future will perform elementwise comparison\n",
      "  result = method(y)\n"
     ]
    }
   ],
   "source": [
    "# 결측값 체크 \n",
    "print('\\n', \"# 결측 값 변환 전, 결측 데이터 수 ===================\")\n",
    "print(\"# 세대수.xlsx  ---------------\")\n",
    "print('결측(None)값 갯수: ', gen1_df.isnull().sum().sum())\n",
    "print(\"결측('-')값 갯수: \", gen1_df.eq('-').sum().sum())\n",
    "\n",
    "print('\\n', \"# 이동건수.xlsx  -------------\")\n",
    "print('결측(None)값 갯수: ', gen2_df.isnull().sum().sum())\n",
    "print(\"결측('-')값 갯수: \", gen2_df.eq('-').sum().sum())\n",
    "\n",
    "print('\\n', \"# 인구수.xlsx  ---------------\")\n",
    "print('결측(None)값 갯수: ', gen3_df.isnull().sum().sum())\n",
    "print(\"결측('-')값 갯수: \", gen3_df.eq('-').sum().sum())\n",
    "\n",
    "print('\\n', \"# 인구이동.xlsx  ------------\")\n",
    "print('결측(None)값 갯수: ', gen4_df.isnull().sum().sum())\n",
    "print(\"결측('-')값 갯수: \", gen4_df.eq('-').sum().sum())\n",
    "\n",
    "# ===========================================================\n",
    "# 결측('-')값 > 'None' 변환 \n",
    "gen1_df.replace({'-': None}, inplace=True)\n",
    "gen2_df.replace({'-': None}, inplace=True)\n",
    "gen3_df.replace({'-': None}, inplace=True)\n",
    "gen4_df.replace({'-': None}, inplace=True)\n",
    "\n",
    "# ===========================================================\n",
    "# 변환 후, 결측값 체크 \n",
    "print('\\n', \"# 결측 값 변환 후, 결측 데이터 수 ===================\")\n",
    "print('\\n', \"# 세대수.xlsx  ---------------\")\n",
    "print('결측(None)값 갯수: ', gen1_df.isnull().sum().sum())\n",
    "print(\"결측('-')값 갯수: \", gen1_df.eq('-').sum().sum())\n",
    "\n",
    "print('\\n', \"# 이동건수.xlsx  -------------\")\n",
    "print('결측(None)값 갯수: ', gen2_df.isnull().sum().sum())\n",
    "print(\"결측('-')값 갯수: \", gen2_df.eq('-').sum().sum())\n",
    "\n",
    "print('\\n', \"# 인구수.xlsx  ---------------\")\n",
    "print('결측(None)값 갯수: ', gen3_df.isnull().sum().sum())\n",
    "print(\"결측('-')값 갯수: \", gen3_df.eq('-').sum().sum())\n",
    "\n",
    "print('\\n', \"# 인구이동.xlsx  ------------\")\n",
    "print('결측(None)값 갯수: ', gen4_df.isnull().sum().sum())\n",
    "print(\"결측('-')값 갯수: \", gen4_df.eq('-').sum().sum())\n"
   ]
  },
  {
   "cell_type": "code",
   "execution_count": null,
   "metadata": {},
   "outputs": [],
   "source": []
  },
  {
   "cell_type": "code",
   "execution_count": 7,
   "metadata": {},
   "outputs": [],
   "source": [
    "# 전국추세, 서울 집계에 대해서만 추출 \n",
    "common_cols13 = ['전국','서울'] # : 세대수, 인구수 df 에서 추출\n",
    "common_cols24 = ['서울']        # : 세대이동, 인구이동 df 에서 추출 \n",
    "\n",
    "gen1_part_df = gen1_df[common_cols13]\n",
    "gen3_part_df = gen3_df[common_cols13]\n",
    "gen2_part_df = gen2_df[common_cols24]\n",
    "gen4_part_df = gen4_df[common_cols24]"
   ]
  },
  {
   "cell_type": "code",
   "execution_count": 8,
   "metadata": {},
   "outputs": [],
   "source": [
    "# 컬럼 index name 누락\n",
    "gen1_part_df.columns.rename(None,inplace=True)\n",
    "gen3_part_df.columns.rename(None,inplace=True)\n",
    "gen2_part_df.columns.rename(None,inplace=True)\n",
    "gen4_part_df.columns.rename(None,inplace=True)\n",
    "\n",
    "# index Name 지정\n",
    "gen1_part_df.index.rename('기준년도', inplace=True)\n",
    "gen3_part_df.index.rename('기준년도', inplace=True)\n",
    "gen2_part_df.index.rename('기준년월', inplace=True)\n",
    "gen4_part_df.index.rename('기준년월', inplace=True)\n",
    "\n",
    "# df별 공통속성명 중복방지(prefix 추가)\n",
    "gen1_part_df = gen1_part_df.add_prefix('세대수_')\n",
    "gen3_part_df = gen3_part_df.add_prefix('인구수_')\n",
    "gen2_part_df = gen2_part_df.add_prefix('세대이동_')\n",
    "gen4_part_df = gen4_part_df.add_prefix('인구이동_')\n"
   ]
  },
  {
   "cell_type": "code",
   "execution_count": null,
   "metadata": {},
   "outputs": [],
   "source": []
  },
  {
   "cell_type": "markdown",
   "metadata": {},
   "source": [
    "### * 2.1 거시경제 일반지표 연주기지표"
   ]
  },
  {
   "cell_type": "code",
   "execution_count": 9,
   "metadata": {},
   "outputs": [],
   "source": [
    "# 지수주기 별 통합\n",
    "# 기준년도 단위\n",
    "frames = [gen1_part_df, gen3_part_df]\n",
    "gen_years_df = pd.concat(frames, axis=1).reset_index()\n"
   ]
  },
  {
   "cell_type": "code",
   "execution_count": 10,
   "metadata": {},
   "outputs": [
    {
     "data": {
      "text/html": [
       "<div>\n",
       "<style scoped>\n",
       "    .dataframe tbody tr th:only-of-type {\n",
       "        vertical-align: middle;\n",
       "    }\n",
       "\n",
       "    .dataframe tbody tr th {\n",
       "        vertical-align: top;\n",
       "    }\n",
       "\n",
       "    .dataframe thead th {\n",
       "        text-align: right;\n",
       "    }\n",
       "</style>\n",
       "<table border=\"1\" class=\"dataframe\">\n",
       "  <thead>\n",
       "    <tr style=\"text-align: right;\">\n",
       "      <th></th>\n",
       "      <th>기준년도</th>\n",
       "      <th>세대수_전국</th>\n",
       "      <th>세대수_서울</th>\n",
       "      <th>인구수_전국</th>\n",
       "      <th>인구수_서울</th>\n",
       "    </tr>\n",
       "  </thead>\n",
       "  <tbody>\n",
       "    <tr>\n",
       "      <th>21</th>\n",
       "      <td>2013년</td>\n",
       "      <td>20456588</td>\n",
       "      <td>4182351</td>\n",
       "      <td>51141463</td>\n",
       "      <td>10143645</td>\n",
       "    </tr>\n",
       "    <tr>\n",
       "      <th>22</th>\n",
       "      <td>2014년</td>\n",
       "      <td>20724094</td>\n",
       "      <td>4194176</td>\n",
       "      <td>51327916</td>\n",
       "      <td>10103233</td>\n",
       "    </tr>\n",
       "    <tr>\n",
       "      <th>23</th>\n",
       "      <td>2015년</td>\n",
       "      <td>21011152</td>\n",
       "      <td>4189948</td>\n",
       "      <td>51529338</td>\n",
       "      <td>10022181</td>\n",
       "    </tr>\n",
       "    <tr>\n",
       "      <th>24</th>\n",
       "      <td>2016년</td>\n",
       "      <td>21294009</td>\n",
       "      <td>4189839</td>\n",
       "      <td>51696216</td>\n",
       "      <td>9930616</td>\n",
       "    </tr>\n",
       "    <tr>\n",
       "      <th>25</th>\n",
       "      <td>2017년</td>\n",
       "      <td>21632851</td>\n",
       "      <td>4220082</td>\n",
       "      <td>51778544</td>\n",
       "      <td>9857426</td>\n",
       "    </tr>\n",
       "  </tbody>\n",
       "</table>\n",
       "</div>"
      ],
      "text/plain": [
       "     기준년도    세대수_전국   세대수_서울    인구수_전국    인구수_서울\n",
       "21  2013년  20456588  4182351  51141463  10143645\n",
       "22  2014년  20724094  4194176  51327916  10103233\n",
       "23  2015년  21011152  4189948  51529338  10022181\n",
       "24  2016년  21294009  4189839  51696216   9930616\n",
       "25  2017년  21632851  4220082  51778544   9857426"
      ]
     },
     "execution_count": 10,
     "metadata": {},
     "output_type": "execute_result"
    }
   ],
   "source": [
    "gen_years_df.tail()"
   ]
  },
  {
   "cell_type": "code",
   "execution_count": 11,
   "metadata": {},
   "outputs": [],
   "source": [
    "# export Dataframe\n",
    "gen_years_df.to_csv(save_dir+'01.거시경제지표_연주기지표.csv', encoding='euc-kr', index=False)"
   ]
  },
  {
   "cell_type": "code",
   "execution_count": null,
   "metadata": {},
   "outputs": [],
   "source": []
  },
  {
   "cell_type": "markdown",
   "metadata": {},
   "source": [
    "### * 2.2 거시경제 일반지표 월주기+광역시도구분지표\n",
    ": 1. 거시경제지표_전처리 과정에서 생성한 '월주기+광역시도지표.csv'에 통합  "
   ]
  },
  {
   "cell_type": "code",
   "execution_count": 12,
   "metadata": {},
   "outputs": [
    {
     "data": {
      "text/html": [
       "<div>\n",
       "<style scoped>\n",
       "    .dataframe tbody tr th:only-of-type {\n",
       "        vertical-align: middle;\n",
       "    }\n",
       "\n",
       "    .dataframe tbody tr th {\n",
       "        vertical-align: top;\n",
       "    }\n",
       "\n",
       "    .dataframe thead th {\n",
       "        text-align: right;\n",
       "    }\n",
       "</style>\n",
       "<table border=\"1\" class=\"dataframe\">\n",
       "  <thead>\n",
       "    <tr style=\"text-align: right;\">\n",
       "      <th></th>\n",
       "      <th>가계대출_전국</th>\n",
       "      <th>가계대출_서울</th>\n",
       "      <th>주택대출_전국</th>\n",
       "      <th>주택대출_서울</th>\n",
       "    </tr>\n",
       "    <tr>\n",
       "      <th>기준년월</th>\n",
       "      <th></th>\n",
       "      <th></th>\n",
       "      <th></th>\n",
       "      <th></th>\n",
       "    </tr>\n",
       "  </thead>\n",
       "  <tbody>\n",
       "    <tr>\n",
       "      <th>2007년 12월</th>\n",
       "      <td>474094.4</td>\n",
       "      <td>163372.6</td>\n",
       "      <td>291082.9</td>\n",
       "      <td>107469.2</td>\n",
       "    </tr>\n",
       "    <tr>\n",
       "      <th>2008년 01월</th>\n",
       "      <td>473606.9</td>\n",
       "      <td>163223.8</td>\n",
       "      <td>291623.3</td>\n",
       "      <td>107433.5</td>\n",
       "    </tr>\n",
       "    <tr>\n",
       "      <th>2008년 02월</th>\n",
       "      <td>476919.4</td>\n",
       "      <td>164072.1</td>\n",
       "      <td>290639.0</td>\n",
       "      <td>106294.4</td>\n",
       "    </tr>\n",
       "    <tr>\n",
       "      <th>2008년 03월</th>\n",
       "      <td>480414.6</td>\n",
       "      <td>165192.6</td>\n",
       "      <td>291617.7</td>\n",
       "      <td>106393.8</td>\n",
       "    </tr>\n",
       "    <tr>\n",
       "      <th>2008년 04월</th>\n",
       "      <td>485302.9</td>\n",
       "      <td>166904.7</td>\n",
       "      <td>294082.5</td>\n",
       "      <td>107235.2</td>\n",
       "    </tr>\n",
       "  </tbody>\n",
       "</table>\n",
       "</div>"
      ],
      "text/plain": [
       "            가계대출_전국   가계대출_서울   주택대출_전국   주택대출_서울\n",
       "기준년월                                             \n",
       "2007년 12월  474094.4  163372.6  291082.9  107469.2\n",
       "2008년 01월  473606.9  163223.8  291623.3  107433.5\n",
       "2008년 02월  476919.4  164072.1  290639.0  106294.4\n",
       "2008년 03월  480414.6  165192.6  291617.7  106393.8\n",
       "2008년 04월  485302.9  166904.7  294082.5  107235.2"
      ]
     },
     "execution_count": 12,
     "metadata": {},
     "output_type": "execute_result"
    }
   ],
   "source": [
    "macro_months_provs_df = pd.read_csv(save_dir+'01.거시경제지표_월주기+광역시도지표.csv', \n",
    "                                    encoding='euc-kr', index_col='기준년월')  \n",
    "macro_months_provs_df.head()"
   ]
  },
  {
   "cell_type": "code",
   "execution_count": 13,
   "metadata": {},
   "outputs": [
    {
     "name": "stderr",
     "output_type": "stream",
     "text": [
      "C:\\Users\\seoun\\Anaconda3\\lib\\site-packages\\ipykernel_launcher.py:4: FutureWarning: Sorting because non-concatenation axis is not aligned. A future version\n",
      "of pandas will change to not sort by default.\n",
      "\n",
      "To accept the future behavior, pass 'sort=False'.\n",
      "\n",
      "To retain the current behavior and silence the warning, pass 'sort=True'.\n",
      "\n",
      "  after removing the cwd from sys.path.\n"
     ]
    }
   ],
   "source": [
    "# 지수주기 별 통합\n",
    "# 기준년월 단위\n",
    "frames = [macro_months_provs_df, gen2_part_df, gen4_part_df]\n",
    "gen_months_provs_df = pd.concat(frames, axis=1).reset_index()\n",
    "\n",
    "gen_months_provs_df.rename(columns={'index':'기준년월'}, inplace=True)"
   ]
  },
  {
   "cell_type": "code",
   "execution_count": 14,
   "metadata": {},
   "outputs": [
    {
     "data": {
      "text/html": [
       "<div>\n",
       "<style scoped>\n",
       "    .dataframe tbody tr th:only-of-type {\n",
       "        vertical-align: middle;\n",
       "    }\n",
       "\n",
       "    .dataframe tbody tr th {\n",
       "        vertical-align: top;\n",
       "    }\n",
       "\n",
       "    .dataframe thead th {\n",
       "        text-align: right;\n",
       "    }\n",
       "</style>\n",
       "<table border=\"1\" class=\"dataframe\">\n",
       "  <thead>\n",
       "    <tr style=\"text-align: right;\">\n",
       "      <th></th>\n",
       "      <th>기준년월</th>\n",
       "      <th>가계대출_전국</th>\n",
       "      <th>가계대출_서울</th>\n",
       "      <th>주택대출_전국</th>\n",
       "      <th>주택대출_서울</th>\n",
       "      <th>세대이동_서울</th>\n",
       "      <th>인구이동_서울</th>\n",
       "    </tr>\n",
       "  </thead>\n",
       "  <tbody>\n",
       "    <tr>\n",
       "      <th>601</th>\n",
       "      <td>2020년 02월</td>\n",
       "      <td>1086425.4</td>\n",
       "      <td>326252.6</td>\n",
       "      <td>635282.9</td>\n",
       "      <td>196654.8</td>\n",
       "      <td>6052.0</td>\n",
       "      <td>3305</td>\n",
       "    </tr>\n",
       "    <tr>\n",
       "      <th>602</th>\n",
       "      <td>2020년 03월</td>\n",
       "      <td>1094531.8</td>\n",
       "      <td>330397.8</td>\n",
       "      <td>639598.1</td>\n",
       "      <td>198287.6</td>\n",
       "      <td>1525.0</td>\n",
       "      <td>-3404</td>\n",
       "    </tr>\n",
       "    <tr>\n",
       "      <th>603</th>\n",
       "      <td>2020년 04월</td>\n",
       "      <td>1099520.7</td>\n",
       "      <td>332221.8</td>\n",
       "      <td>644393.0</td>\n",
       "      <td>200025.0</td>\n",
       "      <td>-1952.0</td>\n",
       "      <td>-7117</td>\n",
       "    </tr>\n",
       "    <tr>\n",
       "      <th>604</th>\n",
       "      <td>2020년 05월</td>\n",
       "      <td>1103055.0</td>\n",
       "      <td>334236.2</td>\n",
       "      <td>646587.4</td>\n",
       "      <td>201328.2</td>\n",
       "      <td>1234.0</td>\n",
       "      <td>-2709</td>\n",
       "    </tr>\n",
       "    <tr>\n",
       "      <th>605</th>\n",
       "      <td>2020년 06월</td>\n",
       "      <td>NaN</td>\n",
       "      <td>NaN</td>\n",
       "      <td>NaN</td>\n",
       "      <td>NaN</td>\n",
       "      <td>497.0</td>\n",
       "      <td>-3932</td>\n",
       "    </tr>\n",
       "  </tbody>\n",
       "</table>\n",
       "</div>"
      ],
      "text/plain": [
       "          기준년월    가계대출_전국   가계대출_서울   주택대출_전국   주택대출_서울  세대이동_서울  인구이동_서울\n",
       "601  2020년 02월  1086425.4  326252.6  635282.9  196654.8   6052.0     3305\n",
       "602  2020년 03월  1094531.8  330397.8  639598.1  198287.6   1525.0    -3404\n",
       "603  2020년 04월  1099520.7  332221.8  644393.0  200025.0  -1952.0    -7117\n",
       "604  2020년 05월  1103055.0  334236.2  646587.4  201328.2   1234.0    -2709\n",
       "605  2020년 06월        NaN       NaN       NaN       NaN    497.0    -3932"
      ]
     },
     "execution_count": 14,
     "metadata": {},
     "output_type": "execute_result"
    }
   ],
   "source": [
    "gen_months_provs_df.tail()"
   ]
  },
  {
   "cell_type": "code",
   "execution_count": null,
   "metadata": {},
   "outputs": [],
   "source": []
  },
  {
   "cell_type": "code",
   "execution_count": 15,
   "metadata": {},
   "outputs": [],
   "source": [
    "# export Dataframe\n",
    "gen_months_provs_df.to_csv(save_dir+'01.거시경제지표_월주기+전국서울지표.csv', encoding='euc-kr', index=False)"
   ]
  },
  {
   "cell_type": "code",
   "execution_count": null,
   "metadata": {},
   "outputs": [],
   "source": []
  },
  {
   "cell_type": "markdown",
   "metadata": {},
   "source": [
    "## * Visualization"
   ]
  },
  {
   "cell_type": "code",
   "execution_count": 16,
   "metadata": {},
   "outputs": [],
   "source": [
    "import seaborn as sns"
   ]
  },
  {
   "cell_type": "code",
   "execution_count": 17,
   "metadata": {},
   "outputs": [
    {
     "data": {
      "text/plain": [
       "<matplotlib.axes._subplots.AxesSubplot at 0x1ebdebcc320>"
      ]
     },
     "execution_count": 17,
     "metadata": {},
     "output_type": "execute_result"
    },
    {
     "data": {
      "image/png": "[encoded data removed]",
      "text/plain": [
       "<Figure size 432x288 with 1 Axes>"
      ]
     },
     "metadata": {
      "needs_background": "light"
     },
     "output_type": "display_data"
    }
   ],
   "source": [
    "sns.heatmap(gen_years_df.isna(), cbar=False)"
   ]
  },
  {
   "cell_type": "code",
   "execution_count": 18,
   "metadata": {
    "scrolled": true
   },
   "outputs": [
    {
     "data": {
      "text/plain": [
       "<matplotlib.axes._subplots.AxesSubplot at 0x1ebe1c3fa20>"
      ]
     },
     "execution_count": 18,
     "metadata": {},
     "output_type": "execute_result"
    },
    {
     "data": {
      "image/png": "[encoded data removed]",
      "text/plain": [
       "<Figure size 432x288 with 1 Axes>"
      ]
     },
     "metadata": {
      "needs_background": "light"
     },
     "output_type": "display_data"
    }
   ],
   "source": [
    "sns.heatmap(gen_months_provs_df.isna(), cbar=False)"
   ]
  },
  {
   "cell_type": "code",
   "execution_count": null,
   "metadata": {},
   "outputs": [],
   "source": []
  },
  {
   "cell_type": "code",
   "execution_count": null,
   "metadata": {},
   "outputs": [],
   "source": []
  },
  {
   "cell_type": "code",
   "execution_count": null,
   "metadata": {},
   "outputs": [],
   "source": []
  }
 ],
 "metadata": {
  "kernelspec": {
   "display_name": "Python 3",
   "language": "python",
   "name": "python3"
  },
  "language_info": {
   "codemirror_mode": {
    "name": "ipython",
    "version": 3
   },
   "file_extension": ".py",
   "mimetype": "text/x-python",
   "name": "python",
   "nbconvert_exporter": "python",
   "pygments_lexer": "ipython3",
   "version": "3.7.1"
  }
 },
 "nbformat": 4,
 "nbformat_minor": 2
}

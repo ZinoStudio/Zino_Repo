{
 "cells": [
  {
   "cell_type": "markdown",
   "metadata": {},
   "source": [
    "# 거시경제지표 통합\n",
    "- 2020.08.28 작업본  \n",
    "\n",
    "(상세 기술 추가 예정) \n"
   ]
  },
  {
   "cell_type": "code",
   "execution_count": 1,
   "metadata": {},
   "outputs": [],
   "source": [
    "# Import data handling Packages\n",
    "import pandas as pd\n",
    "import glob\n",
    "import re"
   ]
  },
  {
   "cell_type": "code",
   "execution_count": 2,
   "metadata": {},
   "outputs": [],
   "source": [
    "# Set Data directory\n",
    "data_dir = 'C:/Users/seoun/Desktop/Python/milestone_data/'\n",
    "save_dir = 'C:/Users/seoun/Desktop/Python/milestone_data/datasets/'\n"
   ]
  },
  {
   "cell_type": "code",
   "execution_count": 3,
   "metadata": {},
   "outputs": [
    {
     "data": {
      "text/plain": [
       "['C:/Users/seoun/Desktop/Python/milestone_data/거시경제_및_일반지표/01.거시경제지표\\\\CD(91일물).xlsx',\n",
       " 'C:/Users/seoun/Desktop/Python/milestone_data/거시경제_및_일반지표/01.거시경제지표\\\\GDP.xlsx',\n",
       " 'C:/Users/seoun/Desktop/Python/milestone_data/거시경제_및_일반지표/01.거시경제지표\\\\가계대출.xlsx',\n",
       " 'C:/Users/seoun/Desktop/Python/milestone_data/거시경제_및_일반지표/01.거시경제지표\\\\건설기성액.xlsx',\n",
       " 'C:/Users/seoun/Desktop/Python/milestone_data/거시경제_및_일반지표/01.거시경제지표\\\\건설투자.xlsx',\n",
       " 'C:/Users/seoun/Desktop/Python/milestone_data/거시경제_및_일반지표/01.거시경제지표\\\\경제성장률.xlsx',\n",
       " 'C:/Users/seoun/Desktop/Python/milestone_data/거시경제_및_일반지표/01.거시경제지표\\\\국고채(3년).xlsx',\n",
       " 'C:/Users/seoun/Desktop/Python/milestone_data/거시경제_및_일반지표/01.거시경제지표\\\\민간소비.xlsx',\n",
       " 'C:/Users/seoun/Desktop/Python/milestone_data/거시경제_및_일반지표/01.거시경제지표\\\\설비투자.xlsx',\n",
       " 'C:/Users/seoun/Desktop/Python/milestone_data/거시경제_및_일반지표/01.거시경제지표\\\\정기예금금리.xlsx',\n",
       " 'C:/Users/seoun/Desktop/Python/milestone_data/거시경제_및_일반지표/01.거시경제지표\\\\종합주가지수.xlsx',\n",
       " 'C:/Users/seoun/Desktop/Python/milestone_data/거시경제_및_일반지표/01.거시경제지표\\\\주택담보대출금리.xlsx',\n",
       " 'C:/Users/seoun/Desktop/Python/milestone_data/거시경제_및_일반지표/01.거시경제지표\\\\주택대출.xlsx',\n",
       " 'C:/Users/seoun/Desktop/Python/milestone_data/거시경제_및_일반지표/01.거시경제지표\\\\환율.xlsx']"
      ]
     },
     "execution_count": 3,
     "metadata": {},
     "output_type": "execute_result"
    }
   ],
   "source": [
    "# 세부 경로\n",
    "lv_dir = '거시경제_및_일반지표/01.거시경제지표/'\n",
    "file_list = glob.glob(data_dir+lv_dir+ '*.xlsx')\n",
    "file_list"
   ]
  },
  {
   "cell_type": "markdown",
   "metadata": {},
   "source": [
    "##### 통합 누락 테이블 : \n",
    "\" GDP: _필드 값 없음_  \n",
    "\" 가계대출, 주택대출 : _광역시도 구분으로 두개는 따로 join_ "
   ]
  },
  {
   "cell_type": "code",
   "execution_count": 4,
   "metadata": {},
   "outputs": [],
   "source": [
    "# import raw data\n",
    "\n",
    "macro1_df = pd.read_excel(data_dir+lv_dir+'CD(91일물).xlsx', sheet_name=0, header=10, index_col=0).T\n",
    "macro2_df = pd.read_excel(data_dir+lv_dir+'GDP.xlsx', sheet_name=0, header=10, index_col=0).T\n",
    "macro3_df = pd.read_excel(data_dir+lv_dir+'가계대출.xlsx', sheet_name=0, header=10, index_col=0).T\n",
    "macro4_df = pd.read_excel(data_dir+lv_dir+'건설기성액.xlsx', sheet_name=0, header=10, index_col=0).T\n",
    "macro5_df = pd.read_excel(data_dir+lv_dir+'건설투자.xlsx', sheet_name=0, header=10, index_col=0).T\n",
    "macro6_df = pd.read_excel(data_dir+lv_dir+'경제성장률.xlsx', sheet_name=0, header=10, index_col=0).T\n",
    "macro7_df = pd.read_excel(data_dir+lv_dir+'국고채(3년).xlsx', sheet_name=0, header=10, index_col=0).T\n",
    "macro8_df = pd.read_excel(data_dir+lv_dir+'민간소비.xlsx', sheet_name=0, header=10, index_col=0).T\n",
    "macro9_df = pd.read_excel(data_dir+lv_dir+'설비투자.xlsx', sheet_name=0, header=10, index_col=0).T\n",
    "macro10_df = pd.read_excel(data_dir+lv_dir+'정기예금금리.xlsx', sheet_name=0, header=10, index_col=0).T\n",
    "macro11_df = pd.read_excel(data_dir+lv_dir+'종합주가지수.xlsx', sheet_name=0, header=10, index_col=0).T\n",
    "macro12_df = pd.read_excel(data_dir+lv_dir+'주택담보대출금리.xlsx', sheet_name=0, header=10, index_col=0).T\n",
    "macro13_df = pd.read_excel(data_dir+lv_dir+'주택대출.xlsx', sheet_name=0, header=10, index_col=0).T\n",
    "macro14_df = pd.read_excel(data_dir+lv_dir+'환율.xlsx', sheet_name=0, header=10, index_col=0).T"
   ]
  },
  {
   "cell_type": "code",
   "execution_count": 5,
   "metadata": {
    "scrolled": true
   },
   "outputs": [
    {
     "name": "stdout",
     "output_type": "stream",
     "text": [
      "지 역           전국\n",
      "1991년 03월  17.60\n",
      "1991년 04월  18.65\n",
      "1991년 05월  19.01\n",
      "1991년 06월  19.02\n",
      "1991년 07월  18.30\n",
      "지 역             전국\n",
      "1997년 07월  4407803\n",
      "1997년 08월  4706981\n",
      "1997년 09월  4936866\n",
      "1997년 10월  5205676\n",
      "1997년 11월  5203394\n",
      "지 역           전국\n",
      "1995년 05월  14.81\n",
      "1995년 06월  14.58\n",
      "1995년 07월  14.09\n",
      "1995년 08월  13.13\n",
      "1995년 09월  12.82\n",
      "지 역          전국\n",
      "1996년 01월  9.12\n",
      "1996년 02월  8.38\n",
      "1996년 03월  9.49\n",
      "1996년 04월  9.79\n",
      "1996년 05월  8.86\n",
      "지 역           전국\n",
      "1981년 01월  103.1\n",
      "1981년 02월  104.4\n",
      "1981년 03월  105.0\n",
      "1981년 04월  112.3\n",
      "1981년 05월  121.8\n",
      "지 역          전국\n",
      "2001년 09월  6.26\n",
      "2001년 10월  6.79\n",
      "2001년 11월  6.03\n",
      "2001년 12월  6.15\n",
      "2002년 01월  6.00\n",
      "지 역           전국\n",
      "1964년 05월  255.8\n",
      "1964년 06월  255.8\n",
      "1964년 07월  255.8\n",
      "1964년 08월  255.8\n",
      "1964년 09월  255.8\n",
      "지 역           전국\n",
      "1960년 02분기   3.5\n",
      "1960년 03분기 -16.7\n",
      "1960년 04분기 -10.0\n",
      "1961년 01분기  24.5\n",
      "1961년 02분기   1.7\n",
      "지 역          전국\n",
      "1960년 02분기  4.5\n",
      "1960년 03분기 -1.1\n",
      "1960년 04분기  0.6\n",
      "1961년 01분기  3.2\n",
      "1961년 02분기  4.3\n",
      "지 역          전국\n",
      "1960년 02분기  5.4\n",
      "1960년 03분기 -4.0\n",
      "1960년 04분기  3.9\n",
      "1961년 01분기  0.9\n",
      "1961년 02분기 -1.0\n",
      "지 역           전국\n",
      "1960년 02분기  15.6\n",
      "1960년 03분기 -14.0\n",
      "1960년 04분기   2.2\n",
      "1961년 01분기   0.6\n",
      "1961년 02분기   4.8\n",
      "지 역            전국      서울       부산       대구       인천       광주       대전  \\\n",
      "2007년 12월  474094  163373  26595.1    18981    25643  10409.6  11987.2   \n",
      "2008년 01월  473607  163224  26526.2  18836.2  25782.5    10325  11883.4   \n",
      "2008년 02월  476919  164072  26636.7  18908.2  26048.7  10419.9  11984.1   \n",
      "2008년 03월  480415  165193  26832.2  18978.6  26074.9  10539.3  12015.3   \n",
      "2008년 04월  485303  166905  27040.7  19052.7  26231.8  10735.1  12099.8   \n",
      "\n",
      "지 역            울산 세종      경기      강원      충북       충남       전북      전남  \\\n",
      "2007년 12월  8635.1  -  114343  9767.6  9069.8  15802.5  10092.6  9019.9   \n",
      "2008년 01월  8622.3  -  114938    9694  9014.7  15855.4    10008  8871.9   \n",
      "2008년 02월    8738  -  115791  9748.9  9090.2  16041.8  10113.2  8898.1   \n",
      "2008년 03월  8806.2  -  116740  9788.3  9234.5    16256  10208.3  9020.1   \n",
      "2008년 04월  8883.6  -  118103  9850.6  9322.1    16480  10419.1  9099.5   \n",
      "\n",
      "지 역             경북       경남      제주  \n",
      "2007년 12월  14271.4    22186  3918.2  \n",
      "2008년 01월  14189.4  21999.7  3836.1  \n",
      "2008년 02월  14399.1  22193.3  3836.6  \n",
      "2008년 03월  14596.7  22273.6  3858.4  \n",
      "2008년 04월  14729.3  22473.2  3877.9  \n",
      "지 역            전국      서울       부산       대구       인천      광주      대전      울산  \\\n",
      "2007년 12월  291083  107469  17387.6  12638.3  18408.4  5447.2  7018.7  4920.1   \n",
      "2008년 01월  291623  107434  17387.6  12690.5  18567.1    5536  6962.8  4893.3   \n",
      "2008년 02월  290639  106294    17216  12677.4  18633.6  5619.1  6973.9  4959.5   \n",
      "2008년 03월  291618  106394  17271.7    12674  18641.9  5703.7  6973.1    4952   \n",
      "2008년 04월  294082  107235    17417  12741.1  18663.5  5791.7  6998.8  5002.7   \n",
      "\n",
      "지 역       세종       경기      강원      충북      충남      전북      전남      경북  \\\n",
      "2007년 12월  -    78369  3972.5  4248.7  6502.7  4295.6  2726.7  5813.8   \n",
      "2008년 01월  -  78817.6  3983.4  4229.8  6578.9  4245.6  2678.6  5827.3   \n",
      "2008년 02월  -  78734.4  3972.8  4260.3  6622.2  4235.8  2652.5    5915   \n",
      "2008년 03월  -  79156.6  3950.6  4348.7  6665.3  4239.7    2680  6036.3   \n",
      "2008년 04월  -  79942.7  3944.3  4384.8  6765.1  4334.3  2734.2    6090   \n",
      "\n",
      "지 역             경남      제주  \n",
      "2007년 12월  10705.3  1159.1  \n",
      "2008년 01월  10651.3  1140.1  \n",
      "2008년 02월  10738.8  1133.2  \n",
      "2008년 03월  10790.9  1139.5  \n",
      "2008년 04월  10900.5  1136.7  \n"
     ]
    }
   ],
   "source": [
    "# 지수주기 별 \n",
    "# 기준년월 단위\n",
    "print(macro1_df.head()) # CD금리\n",
    "print(macro4_df.head()) # 건설기성액\n",
    "print(macro7_df.head()) # 국고채금리\n",
    "print(macro10_df.head()) # 정기예금금리\n",
    "print(macro11_df.head()) # 종합주가지수\n",
    "print(macro12_df.head()) # 주택담보대출금리\n",
    "print(macro14_df.head()) #환율\n",
    "# 기준분기 단위\n",
    "print(macro5_df.head()) # 건설투자 \n",
    "print(macro6_df.head()) # 경제성장률\n",
    "print(macro8_df.head()) # 민간소비 \n",
    "print(macro9_df.head()) # 설비투자\n",
    "# 기준년월 단위 + 광역 시도\n",
    "print(macro3_df.head()) # 가계대출 \n",
    "print(macro13_df.head()) # 주택대출 \n"
   ]
  },
  {
   "cell_type": "code",
   "execution_count": 6,
   "metadata": {},
   "outputs": [],
   "source": [
    "# 지수주기 별 \n",
    "# 기준년월 단위\n",
    "macro1_df.rename(columns={'전국': 'CD'}, inplace=True) # CD금리\n",
    "macro4_df.rename(columns={'전국': '건설기성액'}, inplace=True) # 건설기성액\n",
    "macro7_df.rename(columns={'전국': '국고채'}, inplace=True) # 국고채금리\n",
    "macro10_df.rename(columns={'전국': '정기예금금리'}, inplace=True) # 정기예금금리\n",
    "macro11_df.rename(columns={'전국': '종합주가지수'}, inplace=True) # 종합주가지수\n",
    "macro12_df.rename(columns={'전국': '주택담보대출금리'}, inplace=True) # 주택담보대출금리\n",
    "macro14_df.rename(columns={'전국': '환율'}, inplace=True) #환율\n",
    "# 기준분기 단위 \n",
    "macro5_df.rename(columns={'전국': '건설투자'}, inplace=True) # 건설투자 \n",
    "macro6_df.rename(columns={'전국': '경제성장률'}, inplace=True) # 경제성장률\n",
    "macro8_df.rename(columns={'전국': '민간소비'}, inplace=True) # 민간소비 \n",
    "macro9_df.rename(columns={'전국': '설비투자'}, inplace=True) # 설비투자\n"
   ]
  },
  {
   "cell_type": "code",
   "execution_count": 7,
   "metadata": {},
   "outputs": [
    {
     "name": "stderr",
     "output_type": "stream",
     "text": [
      "C:\\Users\\seoun\\Anaconda3\\lib\\site-packages\\ipykernel_launcher.py:4: FutureWarning: Sorting because non-concatenation axis is not aligned. A future version\n",
      "of pandas will change to not sort by default.\n",
      "\n",
      "To accept the future behavior, pass 'sort=False'.\n",
      "\n",
      "To retain the current behavior and silence the warning, pass 'sort=True'.\n",
      "\n",
      "  after removing the cwd from sys.path.\n"
     ]
    }
   ],
   "source": [
    "# 지수주기 별 \n",
    "# 기준년월 단위\n",
    "frames = [macro1_df,macro4_df,macro7_df,macro10_df,macro11_df,macro12_df,macro14_df]\n",
    "macro_months_df = pd.concat(frames, axis=1) \n",
    "\n",
    "# 기준분기 단위 \n",
    "frames = [macro5_df, macro6_df, macro8_df, macro9_df]\n",
    "macro_quarters_df = pd.concat(frames, axis=1) \n"
   ]
  },
  {
   "cell_type": "code",
   "execution_count": null,
   "metadata": {},
   "outputs": [],
   "source": []
  },
  {
   "cell_type": "markdown",
   "metadata": {},
   "source": [
    "### * 1.1 거시경제지표_월주기지표"
   ]
  },
  {
   "cell_type": "code",
   "execution_count": 8,
   "metadata": {},
   "outputs": [
    {
     "data": {
      "text/html": [
       "<div>\n",
       "<style scoped>\n",
       "    .dataframe tbody tr th:only-of-type {\n",
       "        vertical-align: middle;\n",
       "    }\n",
       "\n",
       "    .dataframe tbody tr th {\n",
       "        vertical-align: top;\n",
       "    }\n",
       "\n",
       "    .dataframe thead th {\n",
       "        text-align: right;\n",
       "    }\n",
       "</style>\n",
       "<table border=\"1\" class=\"dataframe\">\n",
       "  <thead>\n",
       "    <tr style=\"text-align: right;\">\n",
       "      <th></th>\n",
       "      <th>기준년월</th>\n",
       "      <th>CD</th>\n",
       "      <th>건설기성액</th>\n",
       "      <th>국고채</th>\n",
       "      <th>정기예금금리</th>\n",
       "      <th>종합주가지수</th>\n",
       "      <th>주택담보대출금리</th>\n",
       "      <th>환율</th>\n",
       "    </tr>\n",
       "  </thead>\n",
       "  <tbody>\n",
       "    <tr>\n",
       "      <th>665</th>\n",
       "      <td>2019년 10월</td>\n",
       "      <td>1.46</td>\n",
       "      <td>10864051.0</td>\n",
       "      <td>1.36</td>\n",
       "      <td>1.54</td>\n",
       "      <td>2065.75</td>\n",
       "      <td>2.50</td>\n",
       "      <td>1168.4</td>\n",
       "    </tr>\n",
       "    <tr>\n",
       "      <th>666</th>\n",
       "      <td>2019년 11월</td>\n",
       "      <td>1.52</td>\n",
       "      <td>10982070.0</td>\n",
       "      <td>1.49</td>\n",
       "      <td>1.62</td>\n",
       "      <td>2128.79</td>\n",
       "      <td>2.45</td>\n",
       "      <td>1179.3</td>\n",
       "    </tr>\n",
       "    <tr>\n",
       "      <th>667</th>\n",
       "      <td>2019년 12월</td>\n",
       "      <td>1.53</td>\n",
       "      <td>14296790.0</td>\n",
       "      <td>1.39</td>\n",
       "      <td>1.59</td>\n",
       "      <td>2147.01</td>\n",
       "      <td>2.45</td>\n",
       "      <td>1157.8</td>\n",
       "    </tr>\n",
       "    <tr>\n",
       "      <th>668</th>\n",
       "      <td>2020년 01월</td>\n",
       "      <td>1.47</td>\n",
       "      <td>9457972.0</td>\n",
       "      <td>1.37</td>\n",
       "      <td>1.53</td>\n",
       "      <td>2203.44</td>\n",
       "      <td>2.51</td>\n",
       "      <td>1183.5</td>\n",
       "    </tr>\n",
       "    <tr>\n",
       "      <th>669</th>\n",
       "      <td>2020년 02월</td>\n",
       "      <td>1.42</td>\n",
       "      <td>9580546.0</td>\n",
       "      <td>1.25</td>\n",
       "      <td>1.41</td>\n",
       "      <td>2167.12</td>\n",
       "      <td>2.52</td>\n",
       "      <td>1215.9</td>\n",
       "    </tr>\n",
       "    <tr>\n",
       "      <th>670</th>\n",
       "      <td>2020년 03월</td>\n",
       "      <td>1.23</td>\n",
       "      <td>11878865.0</td>\n",
       "      <td>1.09</td>\n",
       "      <td>1.26</td>\n",
       "      <td>1786.75</td>\n",
       "      <td>2.48</td>\n",
       "      <td>1222.6</td>\n",
       "    </tr>\n",
       "    <tr>\n",
       "      <th>671</th>\n",
       "      <td>2020년 04월</td>\n",
       "      <td>1.10</td>\n",
       "      <td>10750798.0</td>\n",
       "      <td>1.02</td>\n",
       "      <td>1.22</td>\n",
       "      <td>1849.59</td>\n",
       "      <td>2.58</td>\n",
       "      <td>1225.2</td>\n",
       "    </tr>\n",
       "    <tr>\n",
       "      <th>672</th>\n",
       "      <td>2020년 05월</td>\n",
       "      <td>1.02</td>\n",
       "      <td>10701576.0</td>\n",
       "      <td>0.88</td>\n",
       "      <td>1.07</td>\n",
       "      <td>1965.17</td>\n",
       "      <td>2.52</td>\n",
       "      <td>1239.4</td>\n",
       "    </tr>\n",
       "    <tr>\n",
       "      <th>673</th>\n",
       "      <td>2020년 06월</td>\n",
       "      <td>0.79</td>\n",
       "      <td>12523577.0</td>\n",
       "      <td>0.85</td>\n",
       "      <td>0.88</td>\n",
       "      <td>2134.70</td>\n",
       "      <td>2.49</td>\n",
       "      <td>1200.7</td>\n",
       "    </tr>\n",
       "    <tr>\n",
       "      <th>674</th>\n",
       "      <td>2020년 07월</td>\n",
       "      <td>0.79</td>\n",
       "      <td>NaN</td>\n",
       "      <td>0.83</td>\n",
       "      <td>NaN</td>\n",
       "      <td>NaN</td>\n",
       "      <td>NaN</td>\n",
       "      <td>1191.4</td>\n",
       "    </tr>\n",
       "  </tbody>\n",
       "</table>\n",
       "</div>"
      ],
      "text/plain": [
       "          기준년월    CD       건설기성액   국고채  정기예금금리   종합주가지수  주택담보대출금리      환율\n",
       "665  2019년 10월  1.46  10864051.0  1.36    1.54  2065.75      2.50  1168.4\n",
       "666  2019년 11월  1.52  10982070.0  1.49    1.62  2128.79      2.45  1179.3\n",
       "667  2019년 12월  1.53  14296790.0  1.39    1.59  2147.01      2.45  1157.8\n",
       "668  2020년 01월  1.47   9457972.0  1.37    1.53  2203.44      2.51  1183.5\n",
       "669  2020년 02월  1.42   9580546.0  1.25    1.41  2167.12      2.52  1215.9\n",
       "670  2020년 03월  1.23  11878865.0  1.09    1.26  1786.75      2.48  1222.6\n",
       "671  2020년 04월  1.10  10750798.0  1.02    1.22  1849.59      2.58  1225.2\n",
       "672  2020년 05월  1.02  10701576.0  0.88    1.07  1965.17      2.52  1239.4\n",
       "673  2020년 06월  0.79  12523577.0  0.85    0.88  2134.70      2.49  1200.7\n",
       "674  2020년 07월  0.79         NaN  0.83     NaN      NaN       NaN  1191.4"
      ]
     },
     "execution_count": 8,
     "metadata": {},
     "output_type": "execute_result"
    }
   ],
   "source": [
    "macro_months_df.columns.rename(None, inplace=True)\n",
    "macro_months_df.index.rename('기준년월', inplace=True)\n",
    "macro_months_df.reset_index(inplace=True)\n",
    "\n",
    "macro_months_df.tail(10)"
   ]
  },
  {
   "cell_type": "code",
   "execution_count": null,
   "metadata": {},
   "outputs": [],
   "source": []
  },
  {
   "cell_type": "markdown",
   "metadata": {},
   "source": [
    "### * 1.2 거시경제지표_분기주기지표"
   ]
  },
  {
   "cell_type": "code",
   "execution_count": 9,
   "metadata": {},
   "outputs": [
    {
     "data": {
      "text/html": [
       "<div>\n",
       "<style scoped>\n",
       "    .dataframe tbody tr th:only-of-type {\n",
       "        vertical-align: middle;\n",
       "    }\n",
       "\n",
       "    .dataframe tbody tr th {\n",
       "        vertical-align: top;\n",
       "    }\n",
       "\n",
       "    .dataframe thead th {\n",
       "        text-align: right;\n",
       "    }\n",
       "</style>\n",
       "<table border=\"1\" class=\"dataframe\">\n",
       "  <thead>\n",
       "    <tr style=\"text-align: right;\">\n",
       "      <th></th>\n",
       "      <th>기준분기</th>\n",
       "      <th>건설투자</th>\n",
       "      <th>경제성장률</th>\n",
       "      <th>민간소비</th>\n",
       "      <th>설비투자</th>\n",
       "    </tr>\n",
       "  </thead>\n",
       "  <tbody>\n",
       "    <tr>\n",
       "      <th>231</th>\n",
       "      <td>2018년 01분기</td>\n",
       "      <td>1.3</td>\n",
       "      <td>1.1</td>\n",
       "      <td>1.3</td>\n",
       "      <td>4.7</td>\n",
       "    </tr>\n",
       "    <tr>\n",
       "      <th>232</th>\n",
       "      <td>2018년 02분기</td>\n",
       "      <td>-2.7</td>\n",
       "      <td>0.6</td>\n",
       "      <td>0.3</td>\n",
       "      <td>-8.9</td>\n",
       "    </tr>\n",
       "    <tr>\n",
       "      <th>233</th>\n",
       "      <td>2018년 03분기</td>\n",
       "      <td>-6.9</td>\n",
       "      <td>0.6</td>\n",
       "      <td>0.5</td>\n",
       "      <td>-3.3</td>\n",
       "    </tr>\n",
       "    <tr>\n",
       "      <th>234</th>\n",
       "      <td>2018년 04분기</td>\n",
       "      <td>2.3</td>\n",
       "      <td>0.9</td>\n",
       "      <td>0.5</td>\n",
       "      <td>2.4</td>\n",
       "    </tr>\n",
       "    <tr>\n",
       "      <th>235</th>\n",
       "      <td>2019년 01분기</td>\n",
       "      <td>-0.7</td>\n",
       "      <td>-0.3</td>\n",
       "      <td>0.1</td>\n",
       "      <td>-8.5</td>\n",
       "    </tr>\n",
       "    <tr>\n",
       "      <th>236</th>\n",
       "      <td>2019년 02분기</td>\n",
       "      <td>2.9</td>\n",
       "      <td>1.0</td>\n",
       "      <td>0.7</td>\n",
       "      <td>2.6</td>\n",
       "    </tr>\n",
       "    <tr>\n",
       "      <th>237</th>\n",
       "      <td>2019년 03분기</td>\n",
       "      <td>-6.4</td>\n",
       "      <td>0.4</td>\n",
       "      <td>0.4</td>\n",
       "      <td>1.7</td>\n",
       "    </tr>\n",
       "    <tr>\n",
       "      <th>238</th>\n",
       "      <td>2019년 04분기</td>\n",
       "      <td>8.0</td>\n",
       "      <td>1.3</td>\n",
       "      <td>0.7</td>\n",
       "      <td>2.6</td>\n",
       "    </tr>\n",
       "    <tr>\n",
       "      <th>239</th>\n",
       "      <td>2020년 01분기</td>\n",
       "      <td>0.5</td>\n",
       "      <td>-1.3</td>\n",
       "      <td>-6.5</td>\n",
       "      <td>0.2</td>\n",
       "    </tr>\n",
       "    <tr>\n",
       "      <th>240</th>\n",
       "      <td>2020년 02분기</td>\n",
       "      <td>-1.3</td>\n",
       "      <td>-3.3</td>\n",
       "      <td>1.4</td>\n",
       "      <td>-2.9</td>\n",
       "    </tr>\n",
       "  </tbody>\n",
       "</table>\n",
       "</div>"
      ],
      "text/plain": [
       "           기준분기  건설투자  경제성장률  민간소비  설비투자\n",
       "231  2018년 01분기   1.3    1.1   1.3   4.7\n",
       "232  2018년 02분기  -2.7    0.6   0.3  -8.9\n",
       "233  2018년 03분기  -6.9    0.6   0.5  -3.3\n",
       "234  2018년 04분기   2.3    0.9   0.5   2.4\n",
       "235  2019년 01분기  -0.7   -0.3   0.1  -8.5\n",
       "236  2019년 02분기   2.9    1.0   0.7   2.6\n",
       "237  2019년 03분기  -6.4    0.4   0.4   1.7\n",
       "238  2019년 04분기   8.0    1.3   0.7   2.6\n",
       "239  2020년 01분기   0.5   -1.3  -6.5   0.2\n",
       "240  2020년 02분기  -1.3   -3.3   1.4  -2.9"
      ]
     },
     "execution_count": 9,
     "metadata": {},
     "output_type": "execute_result"
    }
   ],
   "source": [
    "macro_quarters_df.columns.rename(None, inplace=True)\n",
    "macro_quarters_df.index.rename('기준분기', inplace=True)\n",
    "macro_quarters_df.reset_index(inplace=True)\n",
    "\n",
    "macro_quarters_df.tail(10)"
   ]
  },
  {
   "cell_type": "code",
   "execution_count": null,
   "metadata": {},
   "outputs": [],
   "source": []
  },
  {
   "cell_type": "markdown",
   "metadata": {},
   "source": [
    "### * 1.3 거시경제지표_월주기+광역시도구분지표\n",
    ": ['전국', '서울'] 속성 선택적 추출"
   ]
  },
  {
   "cell_type": "code",
   "execution_count": 10,
   "metadata": {},
   "outputs": [],
   "source": [
    "# 전국추세, 서울 집계에 대해서만 추출 \n",
    "common_cols313 = ['전국','서울'] # : 세대수, 인구수 df 에서 추출\n",
    "\n",
    "macro3_part_df = macro3_df[common_cols313]\n",
    "macro13_part_df = macro13_df[common_cols313]\n"
   ]
  },
  {
   "cell_type": "code",
   "execution_count": 11,
   "metadata": {},
   "outputs": [],
   "source": [
    "# 컬럼 index name 누락\n",
    "macro3_part_df.columns.rename(None,inplace=True)\n",
    "macro13_part_df.columns.rename(None,inplace=True)\n",
    "\n",
    "# index Name 지정\n",
    "macro3_part_df.index.rename('기준년월', inplace=True)\n",
    "macro13_part_df.index.rename('기준년월', inplace=True)\n",
    "\n",
    "# df별 공통속성명 중복방지(prefix 추가)\n",
    "macro3_part_df = macro3_part_df.add_prefix('가계대출_')\n",
    "macro13_part_df = macro13_part_df.add_prefix('주택대출_')\n"
   ]
  },
  {
   "cell_type": "code",
   "execution_count": 12,
   "metadata": {
    "scrolled": true
   },
   "outputs": [],
   "source": [
    "# 지수주기 별 통합\n",
    "# 기준년월도 단위\n",
    "frames = [macro3_part_df, macro13_part_df]\n",
    "macro_months_provs_df = pd.concat(frames, axis=1).reset_index()"
   ]
  },
  {
   "cell_type": "code",
   "execution_count": 13,
   "metadata": {},
   "outputs": [
    {
     "data": {
      "text/html": [
       "<div>\n",
       "<style scoped>\n",
       "    .dataframe tbody tr th:only-of-type {\n",
       "        vertical-align: middle;\n",
       "    }\n",
       "\n",
       "    .dataframe tbody tr th {\n",
       "        vertical-align: top;\n",
       "    }\n",
       "\n",
       "    .dataframe thead th {\n",
       "        text-align: right;\n",
       "    }\n",
       "</style>\n",
       "<table border=\"1\" class=\"dataframe\">\n",
       "  <thead>\n",
       "    <tr style=\"text-align: right;\">\n",
       "      <th></th>\n",
       "      <th>기준년월</th>\n",
       "      <th>가계대출_전국</th>\n",
       "      <th>가계대출_서울</th>\n",
       "      <th>주택대출_전국</th>\n",
       "      <th>주택대출_서울</th>\n",
       "    </tr>\n",
       "  </thead>\n",
       "  <tbody>\n",
       "    <tr>\n",
       "      <th>140</th>\n",
       "      <td>2019년 08월</td>\n",
       "      <td>1.06242e+06</td>\n",
       "      <td>314138</td>\n",
       "      <td>622184</td>\n",
       "      <td>189603</td>\n",
       "    </tr>\n",
       "    <tr>\n",
       "      <th>141</th>\n",
       "      <td>2019년 09월</td>\n",
       "      <td>1.06647e+06</td>\n",
       "      <td>315820</td>\n",
       "      <td>625423</td>\n",
       "      <td>190098</td>\n",
       "    </tr>\n",
       "    <tr>\n",
       "      <th>142</th>\n",
       "      <td>2019년 10월</td>\n",
       "      <td>1.0745e+06</td>\n",
       "      <td>318900</td>\n",
       "      <td>629656</td>\n",
       "      <td>192232</td>\n",
       "    </tr>\n",
       "    <tr>\n",
       "      <th>143</th>\n",
       "      <td>2019년 11월</td>\n",
       "      <td>1.08037e+06</td>\n",
       "      <td>321228</td>\n",
       "      <td>633098</td>\n",
       "      <td>193327</td>\n",
       "    </tr>\n",
       "    <tr>\n",
       "      <th>144</th>\n",
       "      <td>2019년 12월</td>\n",
       "      <td>1.08398e+06</td>\n",
       "      <td>323097</td>\n",
       "      <td>633745</td>\n",
       "      <td>194202</td>\n",
       "    </tr>\n",
       "    <tr>\n",
       "      <th>145</th>\n",
       "      <td>2020년 01월</td>\n",
       "      <td>1.08351e+06</td>\n",
       "      <td>323867</td>\n",
       "      <td>634283</td>\n",
       "      <td>195176</td>\n",
       "    </tr>\n",
       "    <tr>\n",
       "      <th>146</th>\n",
       "      <td>2020년 02월</td>\n",
       "      <td>1.08643e+06</td>\n",
       "      <td>326253</td>\n",
       "      <td>635283</td>\n",
       "      <td>196655</td>\n",
       "    </tr>\n",
       "    <tr>\n",
       "      <th>147</th>\n",
       "      <td>2020년 03월</td>\n",
       "      <td>1.09453e+06</td>\n",
       "      <td>330398</td>\n",
       "      <td>639598</td>\n",
       "      <td>198288</td>\n",
       "    </tr>\n",
       "    <tr>\n",
       "      <th>148</th>\n",
       "      <td>2020년 04월</td>\n",
       "      <td>1.09952e+06</td>\n",
       "      <td>332222</td>\n",
       "      <td>644393</td>\n",
       "      <td>200025</td>\n",
       "    </tr>\n",
       "    <tr>\n",
       "      <th>149</th>\n",
       "      <td>2020년 05월</td>\n",
       "      <td>1.10306e+06</td>\n",
       "      <td>334236</td>\n",
       "      <td>646587</td>\n",
       "      <td>201328</td>\n",
       "    </tr>\n",
       "  </tbody>\n",
       "</table>\n",
       "</div>"
      ],
      "text/plain": [
       "          기준년월      가계대출_전국 가계대출_서울 주택대출_전국 주택대출_서울\n",
       "140  2019년 08월  1.06242e+06  314138  622184  189603\n",
       "141  2019년 09월  1.06647e+06  315820  625423  190098\n",
       "142  2019년 10월   1.0745e+06  318900  629656  192232\n",
       "143  2019년 11월  1.08037e+06  321228  633098  193327\n",
       "144  2019년 12월  1.08398e+06  323097  633745  194202\n",
       "145  2020년 01월  1.08351e+06  323867  634283  195176\n",
       "146  2020년 02월  1.08643e+06  326253  635283  196655\n",
       "147  2020년 03월  1.09453e+06  330398  639598  198288\n",
       "148  2020년 04월  1.09952e+06  332222  644393  200025\n",
       "149  2020년 05월  1.10306e+06  334236  646587  201328"
      ]
     },
     "execution_count": 13,
     "metadata": {},
     "output_type": "execute_result"
    }
   ],
   "source": [
    "macro_months_provs_df.tail(10)"
   ]
  },
  {
   "cell_type": "code",
   "execution_count": null,
   "metadata": {},
   "outputs": [],
   "source": []
  },
  {
   "cell_type": "code",
   "execution_count": 15,
   "metadata": {},
   "outputs": [],
   "source": [
    "# export Dataframe\n",
    "macro_months_df.to_csv(save_dir+'01.거시경제지표_월주기지표.csv', encoding='euc-kr', index=False)\n",
    "macro_quarters_df.to_csv(save_dir+'01.거시경제지표_분기주기지표.csv', encoding='euc-kr', index=False)\n",
    "macro_months_provs_df.to_csv(save_dir+'01.거시경제지표_월주기+광역시도지표.csv', encoding='euc-kr', index=False)"
   ]
  },
  {
   "cell_type": "code",
   "execution_count": null,
   "metadata": {},
   "outputs": [],
   "source": []
  },
  {
   "cell_type": "markdown",
   "metadata": {},
   "source": [
    "## * Visualization"
   ]
  },
  {
   "cell_type": "code",
   "execution_count": 16,
   "metadata": {},
   "outputs": [],
   "source": [
    "import seaborn as sns"
   ]
  },
  {
   "cell_type": "code",
   "execution_count": 17,
   "metadata": {},
   "outputs": [
    {
     "data": {
      "text/plain": [
       "<matplotlib.axes._subplots.AxesSubplot at 0x2af21b11ac8>"
      ]
     },
     "execution_count": 17,
     "metadata": {},
     "output_type": "execute_result"
    },
    {
     "data": {
      "image/png": "[encoded data removed]",
      "text/plain": [
       "<Figure size 432x288 with 1 Axes>"
      ]
     },
     "metadata": {
      "needs_background": "light"
     },
     "output_type": "display_data"
    }
   ],
   "source": [
    "sns.heatmap(macro_months_df.isna(), cbar=False)"
   ]
  },
  {
   "cell_type": "code",
   "execution_count": 18,
   "metadata": {
    "scrolled": true
   },
   "outputs": [
    {
     "data": {
      "text/plain": [
       "<matplotlib.axes._subplots.AxesSubplot at 0x2af23bf29e8>"
      ]
     },
     "execution_count": 18,
     "metadata": {},
     "output_type": "execute_result"
    },
    {
     "data": {
      "image/png": "[encoded data removed]",
      "text/plain": [
       "<Figure size 432x288 with 1 Axes>"
      ]
     },
     "metadata": {
      "needs_background": "light"
     },
     "output_type": "display_data"
    }
   ],
   "source": [
    "sns.heatmap(macro_quarters_df.isna(), cbar=False)"
   ]
  },
  {
   "cell_type": "code",
   "execution_count": 19,
   "metadata": {},
   "outputs": [
    {
     "data": {
      "text/html": [
       "<div>\n",
       "<style scoped>\n",
       "    .dataframe tbody tr th:only-of-type {\n",
       "        vertical-align: middle;\n",
       "    }\n",
       "\n",
       "    .dataframe tbody tr th {\n",
       "        vertical-align: top;\n",
       "    }\n",
       "\n",
       "    .dataframe thead th {\n",
       "        text-align: right;\n",
       "    }\n",
       "</style>\n",
       "<table border=\"1\" class=\"dataframe\">\n",
       "  <thead>\n",
       "    <tr style=\"text-align: right;\">\n",
       "      <th></th>\n",
       "      <th>기준분기</th>\n",
       "      <th>건설투자</th>\n",
       "      <th>경제성장률</th>\n",
       "      <th>민간소비</th>\n",
       "      <th>설비투자</th>\n",
       "    </tr>\n",
       "  </thead>\n",
       "  <tbody>\n",
       "    <tr>\n",
       "      <th>0</th>\n",
       "      <td>1960년 02분기</td>\n",
       "      <td>3.5</td>\n",
       "      <td>4.5</td>\n",
       "      <td>5.4</td>\n",
       "      <td>15.6</td>\n",
       "    </tr>\n",
       "    <tr>\n",
       "      <th>1</th>\n",
       "      <td>1960년 03분기</td>\n",
       "      <td>-16.7</td>\n",
       "      <td>-1.1</td>\n",
       "      <td>-4.0</td>\n",
       "      <td>-14.0</td>\n",
       "    </tr>\n",
       "    <tr>\n",
       "      <th>2</th>\n",
       "      <td>1960년 04분기</td>\n",
       "      <td>-10.0</td>\n",
       "      <td>0.6</td>\n",
       "      <td>3.9</td>\n",
       "      <td>2.2</td>\n",
       "    </tr>\n",
       "    <tr>\n",
       "      <th>3</th>\n",
       "      <td>1961년 01분기</td>\n",
       "      <td>24.5</td>\n",
       "      <td>3.2</td>\n",
       "      <td>0.9</td>\n",
       "      <td>0.6</td>\n",
       "    </tr>\n",
       "    <tr>\n",
       "      <th>4</th>\n",
       "      <td>1961년 02분기</td>\n",
       "      <td>1.7</td>\n",
       "      <td>4.3</td>\n",
       "      <td>-1.0</td>\n",
       "      <td>4.8</td>\n",
       "    </tr>\n",
       "  </tbody>\n",
       "</table>\n",
       "</div>"
      ],
      "text/plain": [
       "         기준분기  건설투자  경제성장률  민간소비  설비투자\n",
       "0  1960년 02분기   3.5    4.5   5.4  15.6\n",
       "1  1960년 03분기 -16.7   -1.1  -4.0 -14.0\n",
       "2  1960년 04분기 -10.0    0.6   3.9   2.2\n",
       "3  1961년 01분기  24.5    3.2   0.9   0.6\n",
       "4  1961년 02분기   1.7    4.3  -1.0   4.8"
      ]
     },
     "execution_count": 19,
     "metadata": {},
     "output_type": "execute_result"
    }
   ],
   "source": [
    "macro_quarters_df.head()"
   ]
  },
  {
   "cell_type": "code",
   "execution_count": 20,
   "metadata": {},
   "outputs": [
    {
     "data": {
      "text/plain": [
       "<matplotlib.axes._subplots.AxesSubplot at 0x2af23ca2e80>"
      ]
     },
     "execution_count": 20,
     "metadata": {},
     "output_type": "execute_result"
    },
    {
     "data": {
      "image/png": "[encoded data removed]",
      "text/plain": [
       "<Figure size 432x288 with 1 Axes>"
      ]
     },
     "metadata": {
      "needs_background": "light"
     },
     "output_type": "display_data"
    }
   ],
   "source": [
    "sns.heatmap(macro_months_provs_df.isna(), cbar=False)"
   ]
  },
  {
   "cell_type": "code",
   "execution_count": 21,
   "metadata": {},
   "outputs": [
    {
     "data": {
      "text/html": [
       "<div>\n",
       "<style scoped>\n",
       "    .dataframe tbody tr th:only-of-type {\n",
       "        vertical-align: middle;\n",
       "    }\n",
       "\n",
       "    .dataframe tbody tr th {\n",
       "        vertical-align: top;\n",
       "    }\n",
       "\n",
       "    .dataframe thead th {\n",
       "        text-align: right;\n",
       "    }\n",
       "</style>\n",
       "<table border=\"1\" class=\"dataframe\">\n",
       "  <thead>\n",
       "    <tr style=\"text-align: right;\">\n",
       "      <th></th>\n",
       "      <th>기준년월</th>\n",
       "      <th>가계대출_전국</th>\n",
       "      <th>가계대출_서울</th>\n",
       "      <th>주택대출_전국</th>\n",
       "      <th>주택대출_서울</th>\n",
       "    </tr>\n",
       "  </thead>\n",
       "  <tbody>\n",
       "    <tr>\n",
       "      <th>0</th>\n",
       "      <td>2007년 12월</td>\n",
       "      <td>474094</td>\n",
       "      <td>163373</td>\n",
       "      <td>291083</td>\n",
       "      <td>107469</td>\n",
       "    </tr>\n",
       "    <tr>\n",
       "      <th>1</th>\n",
       "      <td>2008년 01월</td>\n",
       "      <td>473607</td>\n",
       "      <td>163224</td>\n",
       "      <td>291623</td>\n",
       "      <td>107434</td>\n",
       "    </tr>\n",
       "    <tr>\n",
       "      <th>2</th>\n",
       "      <td>2008년 02월</td>\n",
       "      <td>476919</td>\n",
       "      <td>164072</td>\n",
       "      <td>290639</td>\n",
       "      <td>106294</td>\n",
       "    </tr>\n",
       "    <tr>\n",
       "      <th>3</th>\n",
       "      <td>2008년 03월</td>\n",
       "      <td>480415</td>\n",
       "      <td>165193</td>\n",
       "      <td>291618</td>\n",
       "      <td>106394</td>\n",
       "    </tr>\n",
       "    <tr>\n",
       "      <th>4</th>\n",
       "      <td>2008년 04월</td>\n",
       "      <td>485303</td>\n",
       "      <td>166905</td>\n",
       "      <td>294082</td>\n",
       "      <td>107235</td>\n",
       "    </tr>\n",
       "  </tbody>\n",
       "</table>\n",
       "</div>"
      ],
      "text/plain": [
       "        기준년월 가계대출_전국 가계대출_서울 주택대출_전국 주택대출_서울\n",
       "0  2007년 12월  474094  163373  291083  107469\n",
       "1  2008년 01월  473607  163224  291623  107434\n",
       "2  2008년 02월  476919  164072  290639  106294\n",
       "3  2008년 03월  480415  165193  291618  106394\n",
       "4  2008년 04월  485303  166905  294082  107235"
      ]
     },
     "execution_count": 21,
     "metadata": {},
     "output_type": "execute_result"
    }
   ],
   "source": [
    "macro_months_provs_df.head()"
   ]
  },
  {
   "cell_type": "code",
   "execution_count": null,
   "metadata": {},
   "outputs": [],
   "source": []
  }
 ],
 "metadata": {
  "kernelspec": {
   "display_name": "Python 3",
   "language": "python",
   "name": "python3"
  },
  "language_info": {
   "codemirror_mode": {
    "name": "ipython",
    "version": 3
   },
   "file_extension": ".py",
   "mimetype": "text/x-python",
   "name": "python",
   "nbconvert_exporter": "python",
   "pygments_lexer": "ipython3",
   "version": "3.7.1"
  }
 },
 "nbformat": 4,
 "nbformat_minor": 2
}
